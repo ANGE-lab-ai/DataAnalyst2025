{
 "cells": [
  {
   "cell_type": "markdown",
   "id": "2221adf1",
   "metadata": {},
   "source": [
    "# Semaine 1 (1–7 sept) : Python & Pandas fondamentaux \n",
    "### Objectif hebdo : Installer un environnement de travail pro + bases Python/Numpy/Pandas + 1 \n",
    "- mini-analyse publiée sur GitHub. \n",
    "- Booster de productivité : “Checklist dev propre” → \n",
    "* https://docs.python.org/3/tutorial/venv.html\n",
    "## Lundi 1 sept — Installation & Intro Python \n",
    "- Livrables : env virtuel opérationnel + notebook 01_intro_python.ipynb. \n",
    "- Datasets : petit CSV fictif budget_sample.csv (tu crées 10–20 lignes). \n",
    "#### Étapes\n",
    "1. Installer VS Code + Python\n",
    "o VS Code : https://code.visualstudio.com/\n",
    "o Extension “Python” de Microsoft (dans VS Code). \n",
    "2. Créer dossier de travail : C:\\DataAnalyst2025 (Windows) ou ~/DataAnalyst2025\n",
    "(Linux/Mac). \n",
    "3. Créer environnement virtuel\n",
    "o python -m venv .venv\n",
    "Ange-Ghislain KOUAME 1\n",
    "o Activer : Windows .\\.venv\\Scripts\\activate | Mac/Linux source \n",
    ".venv/bin/activate\n",
    "o python -V (vérification) \n",
    "4. Installer bibliothèques de base\n",
    "o pip install -U pip\n",
    "o pip install jupyterlab pandas numpy matplotlib seaborn\n",
    "5. Lancer Jupyter Lab : jupyter lab\n",
    "6. Notebook 01_intro_python.ipynb\n",
    "o Variables, types, if/else, for, fonctions (5 cellules mini). \n",
    "o Mini-exos : concaténer, slicing de liste, somme d’une liste. \n",
    "7. (Option) Créer repo GitHub : https://docs.github.com/en/get-started/quickstart\n",
    "Definition of done : notebook exécutable sans erreur + capture d’écran VS Code + README \n",
    "minimal. \n",
    "믊\n",
    "Google DA (soir, 30–45 min) : Module 1 – “Foundations”. \n",
    "믊\n",
    "Excel (pas aujourd’hui)."
   ]
  },
  {
   "cell_type": "markdown",
   "id": "db80fbc0",
   "metadata": {},
   "source": [
    "### Importations"
   ]
  },
  {
   "cell_type": "code",
   "execution_count": 4,
   "id": "36b8ef67",
   "metadata": {},
   "outputs": [],
   "source": [
    "import pandas as pd\n",
    "import numpy as np"
   ]
  },
  {
   "cell_type": "markdown",
   "id": "5b434a07",
   "metadata": {},
   "source": [
    "### Chargement des données"
   ]
  },
  {
   "cell_type": "code",
   "execution_count": 5,
   "id": "9e61a10c",
   "metadata": {},
   "outputs": [
    {
     "name": "stdout",
     "output_type": "stream",
     "text": [
      "Données chargées avec succès\n"
     ]
    }
   ],
   "source": [
    "df = pd.read_csv('../data/budget_sample.csv')\n",
    "print(\"Données chargées avec succès\")"
   ]
  },
  {
   "cell_type": "markdown",
   "id": "82455c50",
   "metadata": {},
   "source": [
    "## Etape 5: Apprentissage par la pratique\n",
    "- Données budgetaires de base budget_sample.csv"
   ]
  },
  {
   "cell_type": "code",
   "execution_count": 6,
   "id": "4ef7f686",
   "metadata": {},
   "outputs": [
    {
     "name": "stdout",
     "output_type": "stream",
     "text": [
      "Ministère:Finances\n",
      "type de ministère:<class 'str'>\n",
      "Type de budget annuuel: <class 'int'>\n",
      "Taux Utilisation:<class 'float'>\n"
     ]
    }
   ],
   "source": [
    "# Données budgetaires de base budget_sample.csv\n",
    "ministere = \"Finances\"\n",
    "budget_annuel = 5000000  # en Fcfa\n",
    "taux_utilisation = 0.87  # Taux d'utilisation des fonds\n",
    "departements = ['Contrôle Financier', 'Informatique', 'Audit']\n",
    "\n",
    "print(f\"Ministère:{ministere}\")\n",
    "print (f\"type de ministère:{type(ministere)}\")\n",
    "print(f\"Type de budget annuuel: {type(budget_annuel)}\")\n",
    "print(f\"Taux Utilisation:{type(taux_utilisation)}\")"
   ]
  },
  {
   "cell_type": "markdown",
   "id": "cda9ed6c",
   "metadata": {},
   "source": [
    "## Structures conditionnelles - Analyse d'écart\n",
    "- Analyse de performance budgétaire"
   ]
  },
  {
   "cell_type": "code",
   "execution_count": 8,
   "id": "a38d4901",
   "metadata": {},
   "outputs": [
    {
     "name": "stdout",
     "output_type": "stream",
     "text": [
      "Alerte: Dépassement de 9 Fcfa\n"
     ]
    }
   ],
   "source": [
    "depense = 5000009 # en Fcfa\n",
    "budget = 5000000 # en Fcfa\n",
    "ecart = depense - budget # Calcul de l'écart\n",
    "\n",
    "if ecart > 0:\n",
    "    print(f\"Alerte: Dépassement de {ecart} Fcfa\")\n",
    "elif ecart == 0:\n",
    "    print(\"Budget parfaitement respecté\")\n",
    "else:\n",
    "    print(f\"Economie de {abs(ecart)} Fcfa\") # abs() pour valeur absolue"
   ]
  },
  {
   "cell_type": "markdown",
   "id": "c72aa506",
   "metadata": {},
   "source": [
    "## Boucle et listes - Processing de donnees\n",
    "- Données des departements"
   ]
  },
  {
   "cell_type": "code",
   "execution_count": 10,
   "id": "c2b13df1",
   "metadata": {},
   "outputs": [
    {
     "name": "stdout",
     "output_type": "stream",
     "text": [
      "Repartition Budgétaire: \n",
      "-Contrôle : 2000000 Fcfa\n",
      "-Informatique : 1500000 Fcfa\n",
      "-Audit : 1500000 Fcfa\n"
     ]
    }
   ],
   "source": [
    "departements = ['Contrôle', 'Informatique', 'Audit']\n",
    "budget = [2000000, 1500000, 1500000]\n",
    "\n",
    "#Parcour avec une boucle for\n",
    "print(\"Repartition Budgétaire: \")\n",
    "for i in range(len(departements)):  # Parcours par index\n",
    "    print(f\"-{departements[i]} : {budget[i]} Fcfa\")"
   ]
  },
  {
   "cell_type": "markdown",
   "id": "dc047d8c",
   "metadata": {},
   "source": [
    "## Slicing de liste"
   ]
  },
  {
   "cell_type": "code",
   "execution_count": 11,
   "id": "50aeb949",
   "metadata": {},
   "outputs": [
    {
     "name": "stdout",
     "output_type": "stream",
     "text": [
      "Deux premiers départements: ['Contrôle', 'Informatique']\n"
     ]
    }
   ],
   "source": [
    "premiers_departements = departements[:2] # Slicing pour obtenir les deux premiers départements\n",
    "print(f\"Deux premiers départements: {premiers_departements}\")"
   ]
  },
  {
   "cell_type": "markdown",
   "id": "1ff5455e",
   "metadata": {},
   "source": [
    "## Somme des budgets"
   ]
  },
  {
   "cell_type": "code",
   "execution_count": 12,
   "id": "61bc0979",
   "metadata": {},
   "outputs": [
    {
     "name": "stdout",
     "output_type": "stream",
     "text": [
      "Budget total alloué:5000000 Fcfa\n"
     ]
    }
   ],
   "source": [
    "total_budget = sum(budget)\n",
    "print(f\"Budget total alloué:{total_budget} Fcfa\")"
   ]
  },
  {
   "cell_type": "markdown",
   "id": "cf25007f",
   "metadata": {},
   "source": [
    "## Fonction - Calcul Bugétaire"
   ]
  },
  {
   "cell_type": "code",
   "execution_count": 13,
   "id": "f4bbd1ce",
   "metadata": {},
   "outputs": [],
   "source": [
    "def calculer_ecart(budget_alloue, depense_reelle):\n",
    "# Calcul l'ecart budgetaire et retourne une analyse simple\n",
    "    ecart = depense_reelle - budget_alloue\n",
    "    pourcentage = (ecart / budget_alloue) * 100\n",
    "    \n",
    "    if pourcentage > 5:\n",
    "        statut = \"Dépassement critique\"\n",
    "    elif pourcentage > 0:\n",
    "        statut = \"Dépassement modéré\"\n",
    "    elif pourcentage == 0:\n",
    "        statut = \"Equilibre parfait\"\n",
    "    else:\n",
    "        statut = \"Sous-utilisation des fonds\"\n",
    "\n",
    "    return{\n",
    "        \"ecart-absolu\" : ecart,\n",
    "        \"ecart-relatif (%)\" : f\"{pourcentage:.2f}%\",\n",
    "        \"statut\" : statut\n",
    "    }"
   ]
  },
  {
   "cell_type": "markdown",
   "id": "f11b97c8",
   "metadata": {},
   "source": [
    "## Test ecart"
   ]
  },
  {
   "cell_type": "code",
   "execution_count": 14,
   "id": "2142f2be",
   "metadata": {},
   "outputs": [
    {
     "name": "stdout",
     "output_type": "stream",
     "text": [
      "Analyse budgétaire: {'ecart-absolu': 200000, 'ecart-relatif (%)': '4.00%', 'statut': 'Dépassement modéré'}\n"
     ]
    }
   ],
   "source": [
    "# Test ecart\n",
    "analyse = calculer_ecart(5000000, 5200000)\n",
    "print(f\"Analyse budgétaire: {analyse}\")"
   ]
  },
  {
   "cell_type": "markdown",
   "id": "8e75d837",
   "metadata": {},
   "source": [
    "## Lecture du fichier CSV"
   ]
  },
  {
   "cell_type": "code",
   "execution_count": 15,
   "id": "0c4f3b55",
   "metadata": {},
   "outputs": [
    {
     "name": "stdout",
     "output_type": "stream",
     "text": [
      "X Fichier non trouvé. Veuillez vérifier le chemin.\n"
     ]
    }
   ],
   "source": [
    "try:\n",
    "    df = pd.read_csv('budget_sample.csv')\n",
    "    print(\"Fichier chargé avec succès\")\n",
    "    print(f\"shape:{df.shape}\") # Affiche le nombre de lignes et colonnes\n",
    "    print(\"\\n Aperçu des données:\") # Affiche les 5 premières lignes\n",
    "    print(df.head())\n",
    "except FileNotFoundError:\n",
    "    print(\"X Fichier non trouvé. Veuillez vérifier le chemin.\")"
   ]
  },
  {
   "cell_type": "markdown",
   "id": "696b64c8",
   "metadata": {},
   "source": [
    "## ETAPE 6: Exécution et validation\n",
    "- Lancement de jupyter Lab\n",
    "- Dans Jupyter, exécutez chaque cellules séquentiellemnt\n",
    "- Vérifiez qu'aucune erreur n'apparaît"
   ]
  }
 ],
 "metadata": {
  "kernelspec": {
   "display_name": ".venv",
   "language": "python",
   "name": "python3"
  },
  "language_info": {
   "codemirror_mode": {
    "name": "ipython",
    "version": 3
   },
   "file_extension": ".py",
   "mimetype": "text/x-python",
   "name": "python",
   "nbconvert_exporter": "python",
   "pygments_lexer": "ipython3",
   "version": "3.13.1"
  }
 },
 "nbformat": 4,
 "nbformat_minor": 5
}
