{
 "cells": [
  {
   "cell_type": "markdown",
   "id": "5c8de4bb",
   "metadata": {},
   "source": [
    "## PANDAS"
   ]
  },
  {
   "cell_type": "markdown",
   "id": "695a16d0",
   "metadata": {},
   "source": [
    "#### Importons pandas"
   ]
  },
  {
   "cell_type": "code",
   "execution_count": 96,
   "id": "d661a902",
   "metadata": {},
   "outputs": [],
   "source": [
    "import pandas as pd"
   ]
  },
  {
   "cell_type": "markdown",
   "id": "89b03235",
   "metadata": {},
   "source": [
    "- Chargement d'un fichier csv"
   ]
  },
  {
   "cell_type": "code",
   "execution_count": 97,
   "id": "4776246c",
   "metadata": {},
   "outputs": [
    {
     "name": "stdout",
     "output_type": "stream",
     "text": [
      "                                    Indicateurs  Années  \\\n",
      "0                      Croissance du PIB réel %    2023   \n",
      "1                      Croissance du PIB réel %    2022   \n",
      "2                      Croissance du PIB réel %    2021   \n",
      "3                      Croissance du PIB réel %    2020   \n",
      "4                      Croissance du PIB réel %    2019   \n",
      "5                      Croissance du PIB réel %    2018   \n",
      "6                      Croissance du PIB réel %    2017   \n",
      "7                      Croissance du PIB réel %    2016   \n",
      "8                      Croissance du PIB réel %    2015   \n",
      "9                      Croissance du PIB réel %    2014   \n",
      "10                     Croissance du PIB réel %    2013   \n",
      "11                     Croissance du PIB réel %    2012   \n",
      "12                     Croissance du PIB réel %    2011   \n",
      "13                     Croissance du PIB réel %    2010   \n",
      "14              Taux d'investissements % du PIB    2023   \n",
      "15              Taux d'investissements % du PIB    2022   \n",
      "16              Taux d'investissements % du PIB    2021   \n",
      "17              Taux d'investissements % du PIB    2020   \n",
      "18              Taux d'investissements % du PIB    2019   \n",
      "19              Taux d'investissements % du PIB    2018   \n",
      "20              Taux d'investissements % du PIB    2017   \n",
      "21              Taux d'investissements % du PIB    2016   \n",
      "22              Taux d'investissements % du PIB    2015   \n",
      "23              Taux d'investissements % du PIB    2014   \n",
      "24              Taux d'investissements % du PIB    2013   \n",
      "25              Taux d'investissements % du PIB    2012   \n",
      "26              Taux d'investissements % du PIB    2011   \n",
      "27              Taux d'investissements % du PIB    2010   \n",
      "28  Prix à la Consommation (Taux d'inflation) %    2024   \n",
      "29  Prix à la Consommation (Taux d'inflation) %    2023   \n",
      "30  Prix à la Consommation (Taux d'inflation) %    2022   \n",
      "31  Prix à la Consommation (Taux d'inflation) %    2021   \n",
      "32  Prix à la Consommation (Taux d'inflation) %    2020   \n",
      "33  Prix à la Consommation (Taux d'inflation) %    2019   \n",
      "34  Prix à la Consommation (Taux d'inflation) %    2018   \n",
      "35  Prix à la Consommation (Taux d'inflation) %    2017   \n",
      "36  Prix à la Consommation (Taux d'inflation) %    2016   \n",
      "37  Prix à la Consommation (Taux d'inflation) %    2015   \n",
      "38  Prix à la Consommation (Taux d'inflation) %    2014   \n",
      "39  Prix à la Consommation (Taux d'inflation) %    2013   \n",
      "40  Prix à la Consommation (Taux d'inflation) %    2012   \n",
      "41  Prix à la Consommation (Taux d'inflation) %    2011   \n",
      "42  Prix à la Consommation (Taux d'inflation) %    2010   \n",
      "\n",
      "    fluctuations en pourcentage  \n",
      "0                           7.2  \n",
      "1                           6.9  \n",
      "2                           7.4  \n",
      "3                           2.0  \n",
      "4                           6.2  \n",
      "5                           6.9  \n",
      "6                           7.4  \n",
      "7                           7.2  \n",
      "8                           8.8  \n",
      "9                           8.8  \n",
      "10                          9.3  \n",
      "11                         10.1  \n",
      "12                         -4.2  \n",
      "13                          2.0  \n",
      "14                         27.4  \n",
      "15                         23.7  \n",
      "16                         23.4  \n",
      "17                         22.4  \n",
      "18                         21.1  \n",
      "19                         19.8  \n",
      "20                         20.1  \n",
      "21                         21.5  \n",
      "22                         23.7  \n",
      "23                         18.9  \n",
      "24                         17.0  \n",
      "25                         12.7  \n",
      "26                          9.0  \n",
      "27                         12.3  \n",
      "28                          3.5  \n",
      "29                          4.4  \n",
      "30                          5.2  \n",
      "31                          4.2  \n",
      "32                          2.4  \n",
      "33                          0.8  \n",
      "34                          0.4  \n",
      "35                          0.7  \n",
      "36                          0.7  \n",
      "37                          1.3  \n",
      "38                          0.4  \n",
      "39                          2.6  \n",
      "40                          1.3  \n",
      "41                          4.9  \n",
      "42                          1.2  \n"
     ]
    }
   ],
   "source": [
    "df = pd.read_csv('../data/performance-economique-du-secteur-reel-de-2010-a-2023.csv', sep=',', encoding='UTF8')\n",
    "print(df)  # Vérifiez les noms des colonnes"
   ]
  },
  {
   "cell_type": "markdown",
   "id": "cd0c9ef7",
   "metadata": {},
   "source": [
    "## Examinons maintenant nos données"
   ]
  },
  {
   "cell_type": "markdown",
   "id": "fc0d3a9f",
   "metadata": {},
   "source": [
    " Nous utiliserons ici la fonction head() et tail()\n",
    "- head(): Affiche les premières lignes\n",
    "- tail(): Affiche les dernières lignes\n",
    "### Par défaut ces fonctions affichent 5 lignes"
   ]
  },
  {
   "cell_type": "code",
   "execution_count": 98,
   "id": "a4d48caf",
   "metadata": {},
   "outputs": [
    {
     "data": {
      "text/html": [
       "<div>\n",
       "<style scoped>\n",
       "    .dataframe tbody tr th:only-of-type {\n",
       "        vertical-align: middle;\n",
       "    }\n",
       "\n",
       "    .dataframe tbody tr th {\n",
       "        vertical-align: top;\n",
       "    }\n",
       "\n",
       "    .dataframe thead th {\n",
       "        text-align: right;\n",
       "    }\n",
       "</style>\n",
       "<table border=\"1\" class=\"dataframe\">\n",
       "  <thead>\n",
       "    <tr style=\"text-align: right;\">\n",
       "      <th></th>\n",
       "      <th>Indicateurs</th>\n",
       "      <th>Années</th>\n",
       "      <th>fluctuations en pourcentage</th>\n",
       "    </tr>\n",
       "  </thead>\n",
       "  <tbody>\n",
       "    <tr>\n",
       "      <th>0</th>\n",
       "      <td>Croissance du PIB réel %</td>\n",
       "      <td>2023</td>\n",
       "      <td>7.2</td>\n",
       "    </tr>\n",
       "    <tr>\n",
       "      <th>1</th>\n",
       "      <td>Croissance du PIB réel %</td>\n",
       "      <td>2022</td>\n",
       "      <td>6.9</td>\n",
       "    </tr>\n",
       "    <tr>\n",
       "      <th>2</th>\n",
       "      <td>Croissance du PIB réel %</td>\n",
       "      <td>2021</td>\n",
       "      <td>7.4</td>\n",
       "    </tr>\n",
       "    <tr>\n",
       "      <th>3</th>\n",
       "      <td>Croissance du PIB réel %</td>\n",
       "      <td>2020</td>\n",
       "      <td>2.0</td>\n",
       "    </tr>\n",
       "  </tbody>\n",
       "</table>\n",
       "</div>"
      ],
      "text/plain": [
       "                Indicateurs  Années  fluctuations en pourcentage\n",
       "0  Croissance du PIB réel %    2023                          7.2\n",
       "1  Croissance du PIB réel %    2022                          6.9\n",
       "2  Croissance du PIB réel %    2021                          7.4\n",
       "3  Croissance du PIB réel %    2020                          2.0"
      ]
     },
     "execution_count": 98,
     "metadata": {},
     "output_type": "execute_result"
    }
   ],
   "source": [
    "# Affichons les 5 premières lignes\n",
    "df.head()\n",
    "# Affichons les 4 premières lignes\n",
    "df.head(4)"
   ]
  },
  {
   "cell_type": "code",
   "execution_count": 99,
   "id": "8eb12267",
   "metadata": {},
   "outputs": [
    {
     "data": {
      "text/html": [
       "<div>\n",
       "<style scoped>\n",
       "    .dataframe tbody tr th:only-of-type {\n",
       "        vertical-align: middle;\n",
       "    }\n",
       "\n",
       "    .dataframe tbody tr th {\n",
       "        vertical-align: top;\n",
       "    }\n",
       "\n",
       "    .dataframe thead th {\n",
       "        text-align: right;\n",
       "    }\n",
       "</style>\n",
       "<table border=\"1\" class=\"dataframe\">\n",
       "  <thead>\n",
       "    <tr style=\"text-align: right;\">\n",
       "      <th></th>\n",
       "      <th>Indicateurs</th>\n",
       "      <th>Années</th>\n",
       "      <th>fluctuations en pourcentage</th>\n",
       "    </tr>\n",
       "  </thead>\n",
       "  <tbody>\n",
       "    <tr>\n",
       "      <th>40</th>\n",
       "      <td>Prix à la Consommation (Taux d'inflation) %</td>\n",
       "      <td>2012</td>\n",
       "      <td>1.3</td>\n",
       "    </tr>\n",
       "    <tr>\n",
       "      <th>41</th>\n",
       "      <td>Prix à la Consommation (Taux d'inflation) %</td>\n",
       "      <td>2011</td>\n",
       "      <td>4.9</td>\n",
       "    </tr>\n",
       "    <tr>\n",
       "      <th>42</th>\n",
       "      <td>Prix à la Consommation (Taux d'inflation) %</td>\n",
       "      <td>2010</td>\n",
       "      <td>1.2</td>\n",
       "    </tr>\n",
       "  </tbody>\n",
       "</table>\n",
       "</div>"
      ],
      "text/plain": [
       "                                    Indicateurs  Années  \\\n",
       "40  Prix à la Consommation (Taux d'inflation) %    2012   \n",
       "41  Prix à la Consommation (Taux d'inflation) %    2011   \n",
       "42  Prix à la Consommation (Taux d'inflation) %    2010   \n",
       "\n",
       "    fluctuations en pourcentage  \n",
       "40                          1.3  \n",
       "41                          4.9  \n",
       "42                          1.2  "
      ]
     },
     "execution_count": 99,
     "metadata": {},
     "output_type": "execute_result"
    }
   ],
   "source": [
    "# Affichons les 5 dernières lignes\n",
    "df.tail()\n",
    "# Affichons les 3 dernières lignes\n",
    "df.tail(3)"
   ]
  },
  {
   "cell_type": "markdown",
   "id": "5ab608b7",
   "metadata": {},
   "source": [
    "- Pour connaître les dimensions d'un DataFrame, c'est à dire le nombre de colonne et de ligne qu'il contient, nous pouvons utiliser l'attribut shape de pandas"
   ]
  },
  {
   "cell_type": "code",
   "execution_count": 100,
   "id": "ee1d62ba",
   "metadata": {},
   "outputs": [
    {
     "data": {
      "text/plain": [
       "(43, 3)"
      ]
     },
     "execution_count": 100,
     "metadata": {},
     "output_type": "execute_result"
    }
   ],
   "source": [
    "# Affichons le nombre de lignes et de colonnes\n",
    "df.shape"
   ]
  },
  {
   "cell_type": "markdown",
   "id": "df6ecff8",
   "metadata": {},
   "source": [
    "- Pour connaître les types de colonnes, variables d'un DataFrame, nous pouvons utiliser l'attribut de type() de pandas"
   ]
  },
  {
   "cell_type": "code",
   "execution_count": 101,
   "id": "086f9197",
   "metadata": {},
   "outputs": [
    {
     "data": {
      "text/plain": [
       "Indicateurs                     object\n",
       "Années                           int64\n",
       "fluctuations en pourcentage    float64\n",
       "dtype: object"
      ]
     },
     "execution_count": 101,
     "metadata": {},
     "output_type": "execute_result"
    }
   ],
   "source": [
    "# Les types de lignes et de colonnes\n",
    "df.dtypes"
   ]
  },
  {
   "cell_type": "markdown",
   "id": "335562a6",
   "metadata": {},
   "source": [
    "- Le problème vient des guillemets autour du nom de la colonne \"Années\". Dans votre DataFrame, le nom de la colonne est littéralement \"Années\" (avec les guillemets inclus), ce qui explique pourquoi df['Années'] provoque une erreur."
   ]
  },
  {
   "cell_type": "code",
   "execution_count": 102,
   "id": "024636c5",
   "metadata": {},
   "outputs": [
    {
     "name": "stdout",
     "output_type": "stream",
     "text": [
      "Index(['Indicateurs', 'Années', 'fluctuations en pourcentage'], dtype='object')\n"
     ]
    }
   ],
   "source": [
    "df.columns = df.columns.str.replace('\"', '')  # Supprime les guillemets des noms de colonnes\n",
    "print(df.columns)  # Vérifiez les noms des colonnes après nettoyage"
   ]
  },
  {
   "cell_type": "markdown",
   "id": "220fdc23",
   "metadata": {},
   "source": [
    "- Afficher le nom des colonnes de notre DataFrame colomns"
   ]
  },
  {
   "cell_type": "markdown",
   "id": "e4196f18",
   "metadata": {},
   "source": [
    "- Comment accéder à l'une des colonnes de notre DataFrame"
   ]
  },
  {
   "cell_type": "code",
   "execution_count": 103,
   "id": "7e8144f5",
   "metadata": {},
   "outputs": [
    {
     "name": "stdout",
     "output_type": "stream",
     "text": [
      "0     2023\n",
      "1     2022\n",
      "2     2021\n",
      "3     2020\n",
      "4     2019\n",
      "5     2018\n",
      "6     2017\n",
      "7     2016\n",
      "8     2015\n",
      "9     2014\n",
      "10    2013\n",
      "11    2012\n",
      "12    2011\n",
      "13    2010\n",
      "14    2023\n",
      "15    2022\n",
      "16    2021\n",
      "17    2020\n",
      "18    2019\n",
      "19    2018\n",
      "20    2017\n",
      "21    2016\n",
      "22    2015\n",
      "23    2014\n",
      "24    2013\n",
      "25    2012\n",
      "26    2011\n",
      "27    2010\n",
      "28    2024\n",
      "29    2023\n",
      "30    2022\n",
      "31    2021\n",
      "32    2020\n",
      "33    2019\n",
      "34    2018\n",
      "35    2017\n",
      "36    2016\n",
      "37    2015\n",
      "38    2014\n",
      "39    2013\n",
      "40    2012\n",
      "41    2011\n",
      "42    2010\n",
      "Name: Années, dtype: int64\n"
     ]
    }
   ],
   "source": [
    "print(df['Années'])"
   ]
  },
  {
   "cell_type": "markdown",
   "id": "b2c6fe93",
   "metadata": {},
   "source": [
    "- Essayons d'accéder à plusieur colonnes\n",
    "- Il suffit de socker l'enssemble des noms de colonnes auxquelles ont souhaiterais accéder dans une liste\n",
    "- Voilà par exemple comment selectionner la colonne Années et Indicateur de notre DataFrame"
   ]
  },
  {
   "cell_type": "code",
   "execution_count": 104,
   "id": "5bcc4efd",
   "metadata": {},
   "outputs": [
    {
     "data": {
      "text/html": [
       "<div>\n",
       "<style scoped>\n",
       "    .dataframe tbody tr th:only-of-type {\n",
       "        vertical-align: middle;\n",
       "    }\n",
       "\n",
       "    .dataframe tbody tr th {\n",
       "        vertical-align: top;\n",
       "    }\n",
       "\n",
       "    .dataframe thead th {\n",
       "        text-align: right;\n",
       "    }\n",
       "</style>\n",
       "<table border=\"1\" class=\"dataframe\">\n",
       "  <thead>\n",
       "    <tr style=\"text-align: right;\">\n",
       "      <th></th>\n",
       "      <th>Années</th>\n",
       "      <th>Indicateurs</th>\n",
       "    </tr>\n",
       "  </thead>\n",
       "  <tbody>\n",
       "    <tr>\n",
       "      <th>0</th>\n",
       "      <td>2023</td>\n",
       "      <td>Croissance du PIB réel %</td>\n",
       "    </tr>\n",
       "    <tr>\n",
       "      <th>1</th>\n",
       "      <td>2022</td>\n",
       "      <td>Croissance du PIB réel %</td>\n",
       "    </tr>\n",
       "    <tr>\n",
       "      <th>2</th>\n",
       "      <td>2021</td>\n",
       "      <td>Croissance du PIB réel %</td>\n",
       "    </tr>\n",
       "    <tr>\n",
       "      <th>3</th>\n",
       "      <td>2020</td>\n",
       "      <td>Croissance du PIB réel %</td>\n",
       "    </tr>\n",
       "    <tr>\n",
       "      <th>4</th>\n",
       "      <td>2019</td>\n",
       "      <td>Croissance du PIB réel %</td>\n",
       "    </tr>\n",
       "    <tr>\n",
       "      <th>5</th>\n",
       "      <td>2018</td>\n",
       "      <td>Croissance du PIB réel %</td>\n",
       "    </tr>\n",
       "    <tr>\n",
       "      <th>6</th>\n",
       "      <td>2017</td>\n",
       "      <td>Croissance du PIB réel %</td>\n",
       "    </tr>\n",
       "    <tr>\n",
       "      <th>7</th>\n",
       "      <td>2016</td>\n",
       "      <td>Croissance du PIB réel %</td>\n",
       "    </tr>\n",
       "    <tr>\n",
       "      <th>8</th>\n",
       "      <td>2015</td>\n",
       "      <td>Croissance du PIB réel %</td>\n",
       "    </tr>\n",
       "    <tr>\n",
       "      <th>9</th>\n",
       "      <td>2014</td>\n",
       "      <td>Croissance du PIB réel %</td>\n",
       "    </tr>\n",
       "    <tr>\n",
       "      <th>10</th>\n",
       "      <td>2013</td>\n",
       "      <td>Croissance du PIB réel %</td>\n",
       "    </tr>\n",
       "    <tr>\n",
       "      <th>11</th>\n",
       "      <td>2012</td>\n",
       "      <td>Croissance du PIB réel %</td>\n",
       "    </tr>\n",
       "    <tr>\n",
       "      <th>12</th>\n",
       "      <td>2011</td>\n",
       "      <td>Croissance du PIB réel %</td>\n",
       "    </tr>\n",
       "    <tr>\n",
       "      <th>13</th>\n",
       "      <td>2010</td>\n",
       "      <td>Croissance du PIB réel %</td>\n",
       "    </tr>\n",
       "    <tr>\n",
       "      <th>14</th>\n",
       "      <td>2023</td>\n",
       "      <td>Taux d'investissements % du PIB</td>\n",
       "    </tr>\n",
       "    <tr>\n",
       "      <th>15</th>\n",
       "      <td>2022</td>\n",
       "      <td>Taux d'investissements % du PIB</td>\n",
       "    </tr>\n",
       "    <tr>\n",
       "      <th>16</th>\n",
       "      <td>2021</td>\n",
       "      <td>Taux d'investissements % du PIB</td>\n",
       "    </tr>\n",
       "    <tr>\n",
       "      <th>17</th>\n",
       "      <td>2020</td>\n",
       "      <td>Taux d'investissements % du PIB</td>\n",
       "    </tr>\n",
       "    <tr>\n",
       "      <th>18</th>\n",
       "      <td>2019</td>\n",
       "      <td>Taux d'investissements % du PIB</td>\n",
       "    </tr>\n",
       "    <tr>\n",
       "      <th>19</th>\n",
       "      <td>2018</td>\n",
       "      <td>Taux d'investissements % du PIB</td>\n",
       "    </tr>\n",
       "    <tr>\n",
       "      <th>20</th>\n",
       "      <td>2017</td>\n",
       "      <td>Taux d'investissements % du PIB</td>\n",
       "    </tr>\n",
       "    <tr>\n",
       "      <th>21</th>\n",
       "      <td>2016</td>\n",
       "      <td>Taux d'investissements % du PIB</td>\n",
       "    </tr>\n",
       "    <tr>\n",
       "      <th>22</th>\n",
       "      <td>2015</td>\n",
       "      <td>Taux d'investissements % du PIB</td>\n",
       "    </tr>\n",
       "    <tr>\n",
       "      <th>23</th>\n",
       "      <td>2014</td>\n",
       "      <td>Taux d'investissements % du PIB</td>\n",
       "    </tr>\n",
       "    <tr>\n",
       "      <th>24</th>\n",
       "      <td>2013</td>\n",
       "      <td>Taux d'investissements % du PIB</td>\n",
       "    </tr>\n",
       "    <tr>\n",
       "      <th>25</th>\n",
       "      <td>2012</td>\n",
       "      <td>Taux d'investissements % du PIB</td>\n",
       "    </tr>\n",
       "    <tr>\n",
       "      <th>26</th>\n",
       "      <td>2011</td>\n",
       "      <td>Taux d'investissements % du PIB</td>\n",
       "    </tr>\n",
       "    <tr>\n",
       "      <th>27</th>\n",
       "      <td>2010</td>\n",
       "      <td>Taux d'investissements % du PIB</td>\n",
       "    </tr>\n",
       "    <tr>\n",
       "      <th>28</th>\n",
       "      <td>2024</td>\n",
       "      <td>Prix à la Consommation (Taux d'inflation) %</td>\n",
       "    </tr>\n",
       "    <tr>\n",
       "      <th>29</th>\n",
       "      <td>2023</td>\n",
       "      <td>Prix à la Consommation (Taux d'inflation) %</td>\n",
       "    </tr>\n",
       "    <tr>\n",
       "      <th>30</th>\n",
       "      <td>2022</td>\n",
       "      <td>Prix à la Consommation (Taux d'inflation) %</td>\n",
       "    </tr>\n",
       "    <tr>\n",
       "      <th>31</th>\n",
       "      <td>2021</td>\n",
       "      <td>Prix à la Consommation (Taux d'inflation) %</td>\n",
       "    </tr>\n",
       "    <tr>\n",
       "      <th>32</th>\n",
       "      <td>2020</td>\n",
       "      <td>Prix à la Consommation (Taux d'inflation) %</td>\n",
       "    </tr>\n",
       "    <tr>\n",
       "      <th>33</th>\n",
       "      <td>2019</td>\n",
       "      <td>Prix à la Consommation (Taux d'inflation) %</td>\n",
       "    </tr>\n",
       "    <tr>\n",
       "      <th>34</th>\n",
       "      <td>2018</td>\n",
       "      <td>Prix à la Consommation (Taux d'inflation) %</td>\n",
       "    </tr>\n",
       "    <tr>\n",
       "      <th>35</th>\n",
       "      <td>2017</td>\n",
       "      <td>Prix à la Consommation (Taux d'inflation) %</td>\n",
       "    </tr>\n",
       "    <tr>\n",
       "      <th>36</th>\n",
       "      <td>2016</td>\n",
       "      <td>Prix à la Consommation (Taux d'inflation) %</td>\n",
       "    </tr>\n",
       "    <tr>\n",
       "      <th>37</th>\n",
       "      <td>2015</td>\n",
       "      <td>Prix à la Consommation (Taux d'inflation) %</td>\n",
       "    </tr>\n",
       "    <tr>\n",
       "      <th>38</th>\n",
       "      <td>2014</td>\n",
       "      <td>Prix à la Consommation (Taux d'inflation) %</td>\n",
       "    </tr>\n",
       "    <tr>\n",
       "      <th>39</th>\n",
       "      <td>2013</td>\n",
       "      <td>Prix à la Consommation (Taux d'inflation) %</td>\n",
       "    </tr>\n",
       "    <tr>\n",
       "      <th>40</th>\n",
       "      <td>2012</td>\n",
       "      <td>Prix à la Consommation (Taux d'inflation) %</td>\n",
       "    </tr>\n",
       "    <tr>\n",
       "      <th>41</th>\n",
       "      <td>2011</td>\n",
       "      <td>Prix à la Consommation (Taux d'inflation) %</td>\n",
       "    </tr>\n",
       "    <tr>\n",
       "      <th>42</th>\n",
       "      <td>2010</td>\n",
       "      <td>Prix à la Consommation (Taux d'inflation) %</td>\n",
       "    </tr>\n",
       "  </tbody>\n",
       "</table>\n",
       "</div>"
      ],
      "text/plain": [
       "    Années                                  Indicateurs\n",
       "0     2023                     Croissance du PIB réel %\n",
       "1     2022                     Croissance du PIB réel %\n",
       "2     2021                     Croissance du PIB réel %\n",
       "3     2020                     Croissance du PIB réel %\n",
       "4     2019                     Croissance du PIB réel %\n",
       "5     2018                     Croissance du PIB réel %\n",
       "6     2017                     Croissance du PIB réel %\n",
       "7     2016                     Croissance du PIB réel %\n",
       "8     2015                     Croissance du PIB réel %\n",
       "9     2014                     Croissance du PIB réel %\n",
       "10    2013                     Croissance du PIB réel %\n",
       "11    2012                     Croissance du PIB réel %\n",
       "12    2011                     Croissance du PIB réel %\n",
       "13    2010                     Croissance du PIB réel %\n",
       "14    2023              Taux d'investissements % du PIB\n",
       "15    2022              Taux d'investissements % du PIB\n",
       "16    2021              Taux d'investissements % du PIB\n",
       "17    2020              Taux d'investissements % du PIB\n",
       "18    2019              Taux d'investissements % du PIB\n",
       "19    2018              Taux d'investissements % du PIB\n",
       "20    2017              Taux d'investissements % du PIB\n",
       "21    2016              Taux d'investissements % du PIB\n",
       "22    2015              Taux d'investissements % du PIB\n",
       "23    2014              Taux d'investissements % du PIB\n",
       "24    2013              Taux d'investissements % du PIB\n",
       "25    2012              Taux d'investissements % du PIB\n",
       "26    2011              Taux d'investissements % du PIB\n",
       "27    2010              Taux d'investissements % du PIB\n",
       "28    2024  Prix à la Consommation (Taux d'inflation) %\n",
       "29    2023  Prix à la Consommation (Taux d'inflation) %\n",
       "30    2022  Prix à la Consommation (Taux d'inflation) %\n",
       "31    2021  Prix à la Consommation (Taux d'inflation) %\n",
       "32    2020  Prix à la Consommation (Taux d'inflation) %\n",
       "33    2019  Prix à la Consommation (Taux d'inflation) %\n",
       "34    2018  Prix à la Consommation (Taux d'inflation) %\n",
       "35    2017  Prix à la Consommation (Taux d'inflation) %\n",
       "36    2016  Prix à la Consommation (Taux d'inflation) %\n",
       "37    2015  Prix à la Consommation (Taux d'inflation) %\n",
       "38    2014  Prix à la Consommation (Taux d'inflation) %\n",
       "39    2013  Prix à la Consommation (Taux d'inflation) %\n",
       "40    2012  Prix à la Consommation (Taux d'inflation) %\n",
       "41    2011  Prix à la Consommation (Taux d'inflation) %\n",
       "42    2010  Prix à la Consommation (Taux d'inflation) %"
      ]
     },
     "execution_count": 104,
     "metadata": {},
     "output_type": "execute_result"
    }
   ],
   "source": [
    "list = ['Années', 'Indicateurs'] # Liste des colonnes à sélectionner\n",
    "df[list]  # Sélection des colonnes Années et Indicateur"
   ]
  },
  {
   "cell_type": "markdown",
   "id": "6fe79da2",
   "metadata": {},
   "source": [
    "- Modifier une colonne existante"
   ]
  },
  {
   "cell_type": "code",
   "execution_count": 94,
   "id": "e96dd538",
   "metadata": {},
   "outputs": [
    {
     "data": {
      "text/plain": [
       "0     0\n",
       "32    0\n",
       "24    0\n",
       "25    0\n",
       "26    0\n",
       "27    0\n",
       "28    0\n",
       "29    0\n",
       "30    0\n",
       "31    0\n",
       "33    0\n",
       "22    0\n",
       "34    0\n",
       "35    0\n",
       "36    0\n",
       "37    0\n",
       "38    0\n",
       "39    0\n",
       "40    0\n",
       "41    0\n",
       "23    0\n",
       "21    0\n",
       "1     0\n",
       "10    0\n",
       "2     0\n",
       "3     0\n",
       "4     0\n",
       "5     0\n",
       "6     0\n",
       "7     0\n",
       "8     0\n",
       "9     0\n",
       "11    0\n",
       "20    0\n",
       "12    0\n",
       "13    0\n",
       "14    0\n",
       "15    0\n",
       "16    0\n",
       "17    0\n",
       "18    0\n",
       "19    0\n",
       "42    0\n",
       "Name: Années, dtype: int64"
      ]
     },
     "execution_count": 94,
     "metadata": {},
     "output_type": "execute_result"
    }
   ],
   "source": [
    "# Modifier une colonne existante\n",
    "df['Années'] = 0 # Remplace toutes les valeurs de la colonne Années par 0\n",
    "df['Années'] # Vérifiez les modifications"
   ]
  },
  {
   "cell_type": "markdown",
   "id": "040f61a8",
   "metadata": {},
   "source": [
    "- Modifions ensuite les valeurs de \"Fluctuation en poucentage\" et le multipliant par 2 "
   ]
  },
  {
   "cell_type": "code",
   "execution_count": 105,
   "id": "e99d1b82",
   "metadata": {},
   "outputs": [
    {
     "data": {
      "text/plain": [
       "0     14.4\n",
       "1     13.8\n",
       "2     14.8\n",
       "3      4.0\n",
       "4     12.4\n",
       "5     13.8\n",
       "6     14.8\n",
       "7     14.4\n",
       "8     17.6\n",
       "9     17.6\n",
       "10    18.6\n",
       "11    20.2\n",
       "12    -8.4\n",
       "13     4.0\n",
       "14    54.8\n",
       "15    47.4\n",
       "16    46.8\n",
       "17    44.8\n",
       "18    42.2\n",
       "19    39.6\n",
       "20    40.2\n",
       "21    43.0\n",
       "22    47.4\n",
       "23    37.8\n",
       "24    34.0\n",
       "25    25.4\n",
       "26    18.0\n",
       "27    24.6\n",
       "28     7.0\n",
       "29     8.8\n",
       "30    10.4\n",
       "31     8.4\n",
       "32     4.8\n",
       "33     1.6\n",
       "34     0.8\n",
       "35     1.4\n",
       "36     1.4\n",
       "37     2.6\n",
       "38     0.8\n",
       "39     5.2\n",
       "40     2.6\n",
       "41     9.8\n",
       "42     2.4\n",
       "Name: fluctuations en pourcentage, dtype: float64"
      ]
     },
     "execution_count": 105,
     "metadata": {},
     "output_type": "execute_result"
    }
   ],
   "source": [
    "# Modifions ensuite les valeurs de \"Fluction en poucentage\" et le multipliant par 2\n",
    "df['fluctuations en pourcentage'] = df['fluctuations en pourcentage'] * 2\n",
    "df['fluctuations en pourcentage']  # Vérifiez les modifications"
   ]
  },
  {
   "cell_type": "markdown",
   "id": "5debcbf3",
   "metadata": {},
   "source": [
    "- Création de colonne(Suivre la même technique que le code pour la modification)\n",
    "Il suffit d'appeler la colonne comme si elle existait déjà et de lui attribué une valeur"
   ]
  },
  {
   "cell_type": "code",
   "execution_count": 106,
   "id": "42a92380",
   "metadata": {},
   "outputs": [
    {
     "data": {
      "text/plain": [
       "0     ange\n",
       "1     ange\n",
       "2     ange\n",
       "3     ange\n",
       "4     ange\n",
       "5     ange\n",
       "6     ange\n",
       "7     ange\n",
       "8     ange\n",
       "9     ange\n",
       "10    ange\n",
       "11    ange\n",
       "12    ange\n",
       "13    ange\n",
       "14    ange\n",
       "15    ange\n",
       "16    ange\n",
       "17    ange\n",
       "18    ange\n",
       "19    ange\n",
       "20    ange\n",
       "21    ange\n",
       "22    ange\n",
       "23    ange\n",
       "24    ange\n",
       "25    ange\n",
       "26    ange\n",
       "27    ange\n",
       "28    ange\n",
       "29    ange\n",
       "30    ange\n",
       "31    ange\n",
       "32    ange\n",
       "33    ange\n",
       "34    ange\n",
       "35    ange\n",
       "36    ange\n",
       "37    ange\n",
       "38    ange\n",
       "39    ange\n",
       "40    ange\n",
       "41    ange\n",
       "42    ange\n",
       "Name: Agent économique, dtype: object"
      ]
     },
     "execution_count": 106,
     "metadata": {},
     "output_type": "execute_result"
    }
   ],
   "source": [
    "# Creation de colonne\n",
    "df['Agent économique'] = 'ange'  # Crée une nouvelle colonne avec la valeur 'Inconnu' pour toutes les lignes\n",
    "df['Agent économique']  # Vérifiez la nouvelle colonne"
   ]
  },
  {
   "cell_type": "markdown",
   "id": "935ead5b",
   "metadata": {},
   "source": [
    "- Supprimer une colonne existante"
   ]
  },
  {
   "cell_type": "code",
   "execution_count": 107,
   "id": "a1ad26dd",
   "metadata": {},
   "outputs": [
    {
     "data": {
      "text/plain": [
       "Index(['Indicateurs', 'Années', 'fluctuations en pourcentage'], dtype='object')"
      ]
     },
     "execution_count": 107,
     "metadata": {},
     "output_type": "execute_result"
    }
   ],
   "source": [
    "# Supprimer une colonne existante\n",
    "df = df.drop(columns=['Agent économique'])  # Supprime la colonne 'Agent économique'\n",
    "df.columns  # Vérifiez que la colonne a été supprimée"
   ]
  },
  {
   "cell_type": "markdown",
   "id": "58d58fb1",
   "metadata": {},
   "source": [
    "- Renommer une colonne"
   ]
  },
  {
   "cell_type": "code",
   "execution_count": 108,
   "id": "05cc3f5a",
   "metadata": {},
   "outputs": [
    {
     "data": {
      "text/plain": [
       "Index(['Indicateurs', 'Années', 'Fluctuations (%)'], dtype='object')"
      ]
     },
     "execution_count": 108,
     "metadata": {},
     "output_type": "execute_result"
    }
   ],
   "source": [
    "# Renommer une colonne\n",
    "df = df.rename(columns={'fluctuations en pourcentage': 'Fluctuations (%)'})  # Renomme la colonne\n",
    "df.columns  # Vérifiez le nouveau nom de la colonne"
   ]
  },
  {
   "cell_type": "markdown",
   "id": "3d3ff69a",
   "metadata": {},
   "source": [
    "- Changer le type d'une colonne"
   ]
  },
  {
   "cell_type": "code",
   "execution_count": 109,
   "id": "335b42c2",
   "metadata": {},
   "outputs": [
    {
     "data": {
      "text/plain": [
       "Indicateurs          object\n",
       "Années               object\n",
       "Fluctuations (%)    float64\n",
       "dtype: object"
      ]
     },
     "execution_count": 109,
     "metadata": {},
     "output_type": "execute_result"
    }
   ],
   "source": [
    "# Changer le type d'une colonne\n",
    "df['Années'] = df['Années'].astype(str)  # Change le type de la colonne 'Années' en chaîne de caractères\n",
    "df.dtypes  # Vérifiez les types de données des colonnes"
   ]
  },
  {
   "cell_type": "markdown",
   "id": "f6ed4dea",
   "metadata": {},
   "source": [
    "- Trier les données"
   ]
  },
  {
   "cell_type": "code",
   "execution_count": 110,
   "id": "52f4bfe5",
   "metadata": {},
   "outputs": [
    {
     "data": {
      "text/html": [
       "<div>\n",
       "<style scoped>\n",
       "    .dataframe tbody tr th:only-of-type {\n",
       "        vertical-align: middle;\n",
       "    }\n",
       "\n",
       "    .dataframe tbody tr th {\n",
       "        vertical-align: top;\n",
       "    }\n",
       "\n",
       "    .dataframe thead th {\n",
       "        text-align: right;\n",
       "    }\n",
       "</style>\n",
       "<table border=\"1\" class=\"dataframe\">\n",
       "  <thead>\n",
       "    <tr style=\"text-align: right;\">\n",
       "      <th></th>\n",
       "      <th>Indicateurs</th>\n",
       "      <th>Années</th>\n",
       "      <th>Fluctuations (%)</th>\n",
       "    </tr>\n",
       "  </thead>\n",
       "  <tbody>\n",
       "    <tr>\n",
       "      <th>28</th>\n",
       "      <td>Prix à la Consommation (Taux d'inflation) %</td>\n",
       "      <td>2024</td>\n",
       "      <td>7.0</td>\n",
       "    </tr>\n",
       "    <tr>\n",
       "      <th>0</th>\n",
       "      <td>Croissance du PIB réel %</td>\n",
       "      <td>2023</td>\n",
       "      <td>14.4</td>\n",
       "    </tr>\n",
       "    <tr>\n",
       "      <th>14</th>\n",
       "      <td>Taux d'investissements % du PIB</td>\n",
       "      <td>2023</td>\n",
       "      <td>54.8</td>\n",
       "    </tr>\n",
       "    <tr>\n",
       "      <th>29</th>\n",
       "      <td>Prix à la Consommation (Taux d'inflation) %</td>\n",
       "      <td>2023</td>\n",
       "      <td>8.8</td>\n",
       "    </tr>\n",
       "    <tr>\n",
       "      <th>30</th>\n",
       "      <td>Prix à la Consommation (Taux d'inflation) %</td>\n",
       "      <td>2022</td>\n",
       "      <td>10.4</td>\n",
       "    </tr>\n",
       "  </tbody>\n",
       "</table>\n",
       "</div>"
      ],
      "text/plain": [
       "                                    Indicateurs Années  Fluctuations (%)\n",
       "28  Prix à la Consommation (Taux d'inflation) %   2024               7.0\n",
       "0                      Croissance du PIB réel %   2023              14.4\n",
       "14              Taux d'investissements % du PIB   2023              54.8\n",
       "29  Prix à la Consommation (Taux d'inflation) %   2023               8.8\n",
       "30  Prix à la Consommation (Taux d'inflation) %   2022              10.4"
      ]
     },
     "execution_count": 110,
     "metadata": {},
     "output_type": "execute_result"
    }
   ],
   "source": [
    "#Trier l'année par ordre ddécroissant\n",
    "df = df.sort_values(by='Années', ascending=False)  # Trie les données par la colonne 'Années' en ordre décroissant\n",
    "df.head()  # Vérifiez les premières lignes pour voir le tri"
   ]
  },
  {
   "cell_type": "markdown",
   "id": "cb30b6e8",
   "metadata": {},
   "source": [
    "# NUMPY\n",
    "- Numpy est une librairie Python essentielle pour les calculs numériques, permettant de manipuler efficacement des tableaux multidimensionnels. Contrairement aux listes, Numpy offre rapidité, homogénéité des types et compatibilité avec d'autres librairies. Ce cours présente les bases de Numpy, incluant la création et la manipulation de tableaux."
   ]
  },
  {
   "cell_type": "markdown",
   "id": "8981c148",
   "metadata": {},
   "source": [
    "Voici les fonctionnalités principales de NumPy, extraites du document :\n",
    "\n",
    "1. **Manipulation de tableaux multidimensionnels** :\n",
    "   - NumPy permet de créer et de manipuler des tableaux multidimensionnels (vecteurs, matrices, etc.) de manière efficace.\n",
    "   - Les tableaux NumPy sont homogènes, ce qui signifie que tous les éléments doivent être du même type de données.\n",
    "\n",
    "2. **Performances optimisées** :\n",
    "   - Contrairement aux listes Python, les tableaux NumPy sont beaucoup plus rapides pour les opérations sur de grandes quantités de données.\n",
    "   - NumPy utilise une approche optimisée pour le calcul numérique.\n",
    "\n",
    "3. **Syntaxe concise et intuitive** :\n",
    "   - NumPy offre une syntaxe simplifiée pour effectuer des opérations sur les tableaux, comme les additions, multiplications, etc.\n",
    "\n",
    "4. **Compatibilité avec d'autres librairies** :\n",
    "   - NumPy est compatible avec d'autres librairies populaires comme Pandas et Scikit-learn, ce qui facilite son intégration dans des projets de science des données et d'apprentissage automatique.\n",
    "\n",
    "5. **Fonctions intégrées pour la création de tableaux** :\n",
    "   - `np.array()` : Convertit une liste ou un autre objet en tableau NumPy.\n",
    "   - `np.zeros()` : Crée un tableau rempli de zéros.\n",
    "   - `np.ones()` : Crée un tableau rempli de uns.\n",
    "   - `np.linspace()` : Génère un tableau avec des nombres espacés uniformément.\n",
    "   - `np.arange()` : Crée un tableau avec des valeurs dans une plage spécifiée et un pas donné.\n",
    "\n",
    "6. **Redimensionnement et transformation** :\n",
    "   - La fonction `reshape()` permet de modifier la forme d'un tableau (par exemple, convertir un vecteur en matrice).\n",
    "   - La fonction `transpose()` (ou `T`) permet de permuter les lignes et les colonnes d'un tableau.\n",
    "\n",
    "7. **Opérations mathématiques avancées** :\n",
    "   - NumPy prend en charge des opérations mathématiques complexes comme les produits matriciels, les transformations trigonométriques, etc.\n",
    "\n",
    "Ces fonctionnalités font de NumPy un outil indispensable pour les calculs scientifiques et l'analyse de données en Python."
   ]
  },
  {
   "cell_type": "markdown",
   "id": "2814ac44",
   "metadata": {},
   "source": [
    "### Import de la librairie"
   ]
  },
  {
   "cell_type": "code",
   "execution_count": 111,
   "id": "72f42bb3",
   "metadata": {},
   "outputs": [],
   "source": [
    "import numpy as np"
   ]
  },
  {
   "cell_type": "markdown",
   "id": "b72f9b02",
   "metadata": {},
   "source": [
    "### Creer un tableau avec numpy"
   ]
  },
  {
   "cell_type": "code",
   "execution_count": null,
   "id": "e47b0cba",
   "metadata": {},
   "outputs": [
    {
     "name": "stdout",
     "output_type": "stream",
     "text": [
      "[0 7 1 3 3 1 7 9]\n"
     ]
    }
   ],
   "source": [
    "# Tableau numpy à une dimension\n",
    "a = np.array([0,7,1,3,3,1,7,9]) # Creer un tableau avec numpy\n",
    "print(a)"
   ]
  },
  {
   "cell_type": "code",
   "execution_count": 113,
   "id": "25137aca",
   "metadata": {},
   "outputs": [
    {
     "name": "stdout",
     "output_type": "stream",
     "text": [
      "[[1 2 3]\n",
      " [4 5 6]\n",
      " [7 8 9]]\n"
     ]
    }
   ],
   "source": [
    "#Tableau numpy à deux dimensions\n",
    "b = np.array([[1,2,3],[4,5,6],[7,8,9]]) # Creer un tableau avec numpy\n",
    "print(b)"
   ]
  },
  {
   "cell_type": "code",
   "execution_count": 114,
   "id": "a86b185e",
   "metadata": {},
   "outputs": [
    {
     "name": "stdout",
     "output_type": "stream",
     "text": [
      "[[[ 1  2  3]\n",
      "  [ 4  5  6]\n",
      "  [ 7  8  9]]\n",
      "\n",
      " [[10 11 12]\n",
      "  [13 14 15]\n",
      "  [16 17 18]]\n",
      "\n",
      " [[19 20 21]\n",
      "  [22 23 24]\n",
      "  [25 26 27]]]\n"
     ]
    }
   ],
   "source": [
    "#Tableau numpy à trois dimensions\n",
    "c = np.array([[[1,2,3],[4,5,6],[7,8,9]],[[10,11,12],[13,14,15],[16,17,18]],[[19,20,21],[22,23,24],[25,26,27]]]) # Creer un tableau avec numpy\n",
    "print(c)"
   ]
  },
  {
   "cell_type": "markdown",
   "id": "b8a03518",
   "metadata": {},
   "source": [
    "### Création d'un DataFrame pour le budget des ministères"
   ]
  },
  {
   "cell_type": "code",
   "execution_count": null,
   "id": "43b721ad",
   "metadata": {},
   "outputs": [
    {
     "name": "stdout",
     "output_type": "stream",
     "text": [
      "  Ministères:  Budget_Alloue  Budget_Utilise  Année\n",
      "0   Education           5000            4500   2022\n",
      "1       Santé           3000            2800   2022\n",
      "2     Défense           4000            3900   2022\n",
      "3    Finances           6000            5800   2022\n"
     ]
    }
   ],
   "source": [
    "data = {\n",
    "    'Ministères:': ['Education', 'Santé', 'Défense', 'Finances'],\n",
    "    'Budget_Alloue': [5000, 3000, 4000, 6000],\n",
    "    'Budget_Utilise': [4500, 2800, 3900, 5800],\n",
    "    'Année': [2025, 2025, 2025, 2025],\n",
    "}\n",
    "\n",
    "df_Budget = pd.DataFrame(data)\n",
    "print(df_Budget)"
   ]
  },
  {
   "cell_type": "code",
   "execution_count": null,
   "id": "6362f5c9",
   "metadata": {},
   "outputs": [
    {
     "name": "stdout",
     "output_type": "stream",
     "text": [
      "1. INFORMATIONS DE BASE:\n",
      "<class 'pandas.core.frame.DataFrame'>\n",
      "RangeIndex: 5 entries, 0 to 4\n",
      "Data columns (total 5 columns):\n",
      " #   Column              Non-Null Count  Dtype  \n",
      "---  ------              --------------  -----  \n",
      " 0   Région              5 non-null      object \n",
      " 1   Recettes_Fiscales   5 non-null      float64\n",
      " 2   Dépenses_Publiques  5 non-null      float64\n",
      " 3   Investissements     5 non-null      float64\n",
      " 4   Déficit             4 non-null      float64\n",
      "dtypes: float64(4), object(1)\n",
      "memory usage: 332.0+ bytes\n",
      "None\n",
      "\n",
      "Aperçu des données:\n",
      "         Région  Recettes_Fiscales  Dépenses_Publiques  Investissements  \\\n",
      "0       Abidjan              120.5               115.2             25.3   \n",
      "1  Yamoussoukro               45.3                48.1             12.5   \n",
      "2     San-Pédro               38.7                42.3              8.7   \n",
      "3        Bouaké               52.1                50.5             15.2   \n",
      "4       Korhogo               40.8                43.2             10.4   \n",
      "\n",
      "   Déficit  \n",
      "0      NaN  \n",
      "1      2.8  \n",
      "2      3.6  \n",
      "3     -1.6  \n",
      "4      2.4  \n",
      "\n",
      "2. SOLDE BUDGÉTAIRE PAR RÉGION:\n",
      "         Région  Solde_Budgétaire\n",
      "0       Abidjan               5.3\n",
      "1  Yamoussoukro              -2.8\n",
      "2     San-Pédro              -3.6\n",
      "3        Bouaké               1.6\n",
      "4       Korhogo              -2.4\n",
      "\n",
      "3. DONNÉES MANQUANTES AVANT TRAITEMENT:\n",
      "Région                0\n",
      "Recettes_Fiscales     0\n",
      "Dépenses_Publiques    0\n",
      "Investissements       0\n",
      "Déficit               1\n",
      "Solde_Budgétaire      0\n",
      "dtype: int64\n",
      "\n",
      "Après traitement des données manquantes:\n",
      "         Région  Recettes_Fiscales  Dépenses_Publiques  Investissements  \\\n",
      "0       Abidjan              120.5               115.2             25.3   \n",
      "1  Yamoussoukro               45.3                48.1             12.5   \n",
      "2     San-Pédro               38.7                42.3              8.7   \n",
      "3        Bouaké               52.1                50.5             15.2   \n",
      "4       Korhogo               40.8                43.2             10.4   \n",
      "\n",
      "   Déficit  Solde_Budgétaire  \n",
      "0      1.8               5.3  \n",
      "1      2.8              -2.8  \n",
      "2      3.6              -3.6  \n",
      "3     -1.6               1.6  \n",
      "4      2.4              -2.4  \n",
      "\n",
      "4. RÉGION AVEC RECETTES MAXIMALES: Abidjan\n",
      "\n",
      "5. MOYENNE DES INVESTISSEMENTS: 14.42 milliards FCFA\n",
      "\n",
      "6. RÉGIONS AVEC DÉFICIT > 2 MILLIARDS:\n",
      "         Région  Déficit\n",
      "1  Yamoussoukro      2.8\n",
      "2     San-Pédro      3.6\n",
      "4       Korhogo      2.4\n"
     ]
    },
    {
     "name": "stderr",
     "output_type": "stream",
     "text": [
      "C:\\Users\\ange\\AppData\\Local\\Temp\\ipykernel_9440\\1995230513.py:29: FutureWarning: A value is trying to be set on a copy of a DataFrame or Series through chained assignment using an inplace method.\n",
      "The behavior will change in pandas 3.0. This inplace method will never work because the intermediate object on which we are setting values always behaves as a copy.\n",
      "\n",
      "For example, when doing 'df[col].method(value, inplace=True)', try using 'df.method({col: value}, inplace=True)' or df[col] = df[col].method(value) instead, to perform the operation inplace on the original object.\n",
      "\n",
      "\n",
      "  df_regions['Déficit'].fillna(deficit_moyen, inplace=True)\n"
     ]
    }
   ],
   "source": [
    "# Création du DataFrame\n",
    "data_regions = {\n",
    "    'Région': ['Abidjan', 'Yamoussoukro', 'San-Pédro', 'Bouaké', 'Korhogo'],\n",
    "    'Recettes_Fiscales': [120.5, 45.3, 38.7, 52.1, 40.8],\n",
    "    'Dépenses_Publiques': [115.2, 48.1, 42.3, 50.5, 43.2],\n",
    "    'Investissements': [25.3, 12.5, 8.7, 15.2, 10.4],\n",
    "    'Déficit': [None, 2.8, 3.6, -1.6, 2.4]\n",
    "}\n",
    "\n",
    "df_regions = pd.DataFrame(data_regions)\n",
    "\n",
    "# 1. Informations de base\n",
    "print(\"1. INFORMATIONS DE BASE:\")\n",
    "print(df_regions.info())\n",
    "print(\"\\nAperçu des données:\")\n",
    "print(df_regions.head())\n",
    "\n",
    "# 2. Calcul du solde budgétaire\n",
    "df_regions['Solde_Budgétaire'] = df_regions['Recettes_Fiscales'] - df_regions['Dépenses_Publiques']\n",
    "print(\"\\n2. SOLDE BUDGÉTAIRE PAR RÉGION:\")\n",
    "print(df_regions[['Région', 'Solde_Budgétaire']])\n",
    "\n",
    "# 3. Traitement des données manquantes\n",
    "print(\"\\n3. DONNÉES MANQUANTES AVANT TRAITEMENT:\")\n",
    "print(df_regions.isnull().sum())\n",
    "\n",
    "# Remplissage des valeurs manquantes par la moyenne\n",
    "deficit_moyen = df_regions['Déficit'].mean()\n",
    "df_regions['Déficit'].fillna(deficit_moyen, inplace=True)\n",
    "print(\"\\nAprès traitement des données manquantes:\")\n",
    "print(df_regions)\n",
    "\n",
    "# 4. Région avec les recettes les plus élevées\n",
    "region_max_recettes = df_regions.loc[df_regions['Recettes_Fiscales'].idxmax(), 'Région']\n",
    "print(f\"\\n4. RÉGION AVEC RECETTES MAXIMALES: {region_max_recettes}\")\n",
    "\n",
    "# 5. Moyenne des investissements\n",
    "moyenne_investissements = df_regions['Investissements'].mean()\n",
    "print(f\"\\n5. MOYENNE DES INVESTISSEMENTS: {moyenne_investissements:.2f} milliards FCFA\")\n",
    "\n",
    "# 6. Régions avec déficit > 2 milliards\n",
    "regions_deficit_eleve = df_regions[df_regions['Déficit'] > 2]\n",
    "print(\"\\n6. RÉGIONS AVEC DÉFICIT > 2 MILLIARDS:\")\n",
    "print(regions_deficit_eleve[['Région', 'Déficit']])"
   ]
  }
 ],
 "metadata": {
  "kernelspec": {
   "display_name": ".venv",
   "language": "python",
   "name": "python3"
  },
  "language_info": {
   "codemirror_mode": {
    "name": "ipython",
    "version": 3
   },
   "file_extension": ".py",
   "mimetype": "text/x-python",
   "name": "python",
   "nbconvert_exporter": "python",
   "pygments_lexer": "ipython3",
   "version": "3.13.1"
  }
 },
 "nbformat": 4,
 "nbformat_minor": 5
}
