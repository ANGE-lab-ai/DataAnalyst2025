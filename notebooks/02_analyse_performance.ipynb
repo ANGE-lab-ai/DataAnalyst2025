# -*- coding: utf-8 -*-
"""
Analyse de la performance économique de la Côte d'Ivoire (2010-2023)
"""
import pandas as pd
import matplotlib.pyplot as plt
import numpy as np

# Chargement des données
df = pd.read_csv('../data/performance-economique-du-secteur-reel-de-2010-a-2023.csv')

# Inspection initiale
print("📊 Dimensions des données:", df.shape)
print("\n🔍 Aperçu des données:")
print(df.head())
print("\n📋 Informations sur les données:")
print(df.info())
print("\n🧮 Statistiques descriptives:")
print(df.describe())

# Nettoyage basique (adapter selon le format réel de vos données)
# df['Année'] = pd.to_datetime(df['Année'], format='%Y')
# df.set_index('Année', inplace=True)

# Visualisation simple (exemple)
plt.figure(figsize=(12, 6))
# plt.plot(df['Année'], df['PIB'])  # À adapter aux colonnes réelles
plt.title('Évolution du PIB de la Côte d\'Ivoire (2010-2023)')
plt.xlabel('Année')
plt.ylabel('PIB (en milliards FCFA)')
plt.grid(True)
plt.xticks(rotation=45)
plt.tight_layout()
plt.savefig('../results/evolution_pib.png')
plt.show()

# Calculs de croissance (exemple)
# df['Croissance_PIB'] = df['PIB'].pct_change() * 100
# print("📈 Taux de croissance annuels:")
# print(df['Croissance_PIB'].dropna())