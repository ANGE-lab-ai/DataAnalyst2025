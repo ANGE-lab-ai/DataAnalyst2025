{
 "cells": [
  {
   "cell_type": "markdown",
   "id": "69048268",
   "metadata": {},
   "source": [
    "## Manipulation des données avec PANDAS"
   ]
  },
  {
   "cell_type": "markdown",
   "id": "e19e0c8e",
   "metadata": {
    "vscode": {
     "languageId": "plaintext"
    }
   },
   "source": [
    "### EXERCICE"
   ]
  },
  {
   "cell_type": "markdown",
   "id": "4d7ec51a",
   "metadata": {},
   "source": [
    "Inspection d'un DataFrame\n",
    "Lorsque vous travaillez avec un nouveau DataFrame, la première chose à faire est de l'explorer et de voir ce qu'il contient. Il existe plusieurs méthodes et attributs utiles à cet effet.\n",
    "\n",
    ".head() renvoie les premières lignes (« l’en-tête » du DataFrame).\n",
    ".info() affiche des informations sur chacune des colonnes, telles que le type de données et le nombre de valeurs manquantes.\n",
    ".shape renvoie le nombre de lignes et de colonnes du DataFrame.\n",
    ".describe() calcule quelques statistiques récapitulatives pour chaque colonne.\n",
    "homelessness est un DataFrame contenant les estimations du nombre de sans-abri dans chacun des États américains en 2018. La colonne individual représente le nombre de personnes sans domicile ne faisant pas partie d'une famille avec enfants. La colonne family_members indique le nombre de personnes sans domicile faisant partie d'une famille avec enfants. La colonne state_pop représente la population totale de l'État."
   ]
  },
  {
   "cell_type": "markdown",
   "id": "42bfcd9a",
   "metadata": {},
   "source": [
    "### Afficher les entêtes"
   ]
  },
  {
   "cell_type": "code",
   "execution_count": 6,
   "id": "13a4e94f",
   "metadata": {},
   "outputs": [
    {
     "name": "stdout",
     "output_type": "stream",
     "text": [
      "                Indicateurs  Années  fluctuations en pourcentage\n",
      "0  Croissance du PIB réel %    2023                          7.2\n",
      "1  Croissance du PIB réel %    2022                          6.9\n",
      "2  Croissance du PIB réel %    2021                          7.4\n",
      "3  Croissance du PIB réel %    2020                          2.0\n",
      "4  Croissance du PIB réel %    2019                          6.2\n"
     ]
    }
   ],
   "source": [
    "import pandas as pd\n",
    "import numpy as np\n",
    "import matplotlib.pyplot as plt\n",
    "# from sklearn.linear_model import LinearRegression\n",
    "# from sklearn.model_selection import train_test_split\n",
    "\n",
    "# Load the homelessness data\n",
    "homelessness = pd.read_csv('../../data/performance-economique-du-secteur-reel-de-2010-a-2023.csv')\n",
    "\n",
    "# Print the head of the homelessness data\n",
    "print(homelessness.head())"
   ]
  },
  {
   "cell_type": "markdown",
   "id": "d61e5b7c",
   "metadata": {},
   "source": [
    "### Affichez des informations sur les types de colonnes et les valeurs manquantes dans homelessness"
   ]
  },
  {
   "cell_type": "code",
   "execution_count": null,
   "id": "6b80d506",
   "metadata": {},
   "outputs": [
    {
     "name": "stdout",
     "output_type": "stream",
     "text": [
      "            Années  fluctuations en pourcentage\n",
      "count    43.000000                    43.000000\n",
      "mean   2016.674419                     9.139535\n",
      "std       4.190243                     8.324352\n",
      "min    2010.000000                    -4.200000\n",
      "25%    2013.000000                     2.200000\n",
      "50%    2017.000000                     7.200000\n",
      "75%    2020.000000                    14.850000\n",
      "max    2024.000000                    27.400000\n",
      "<class 'pandas.core.frame.DataFrame'>\n",
      "RangeIndex: 43 entries, 0 to 42\n",
      "Data columns (total 3 columns):\n",
      " #   Column                       Non-Null Count  Dtype  \n",
      "---  ------                       --------------  -----  \n",
      " 0   Indicateurs                  43 non-null     object \n",
      " 1   Années                       43 non-null     int64  \n",
      " 2   fluctuations en pourcentage  43 non-null     float64\n",
      "dtypes: float64(1), int64(1), object(1)\n",
      "memory usage: 1.1+ KB\n",
      "None\n"
     ]
    }
   ],
   "source": [
    "print(homelessness.describe()) # Statistiques descriptives\n",
    "print(homelessness.info()) # Informations sur les types de colonnes et les valeurs manquantes"
   ]
  },
  {
   "cell_type": "markdown",
   "id": "446ac771",
   "metadata": {},
   "source": [
    "### Afficher le nombre de lignes"
   ]
  },
  {
   "cell_type": "code",
   "execution_count": 9,
   "id": "e32f8e1f",
   "metadata": {},
   "outputs": [
    {
     "name": "stdout",
     "output_type": "stream",
     "text": [
      "(43, 3)\n"
     ]
    }
   ],
   "source": [
    "print(homelessness.shape)"
   ]
  },
  {
   "cell_type": "markdown",
   "id": "86353a5a",
   "metadata": {},
   "source": [
    "### Affichez quelques statistiques récapitulatives décrivant le DataFrame homelessness"
   ]
  },
  {
   "cell_type": "code",
   "execution_count": 10,
   "id": "c15cc77d",
   "metadata": {},
   "outputs": [
    {
     "name": "stdout",
     "output_type": "stream",
     "text": [
      "            Années  fluctuations en pourcentage\n",
      "count    43.000000                    43.000000\n",
      "mean   2016.674419                     9.139535\n",
      "std       4.190243                     8.324352\n",
      "min    2010.000000                    -4.200000\n",
      "25%    2013.000000                     2.200000\n",
      "50%    2017.000000                     7.200000\n",
      "75%    2020.000000                    14.850000\n",
      "max    2024.000000                    27.400000\n"
     ]
    }
   ],
   "source": [
    "print(homelessness.describe()) # Statistiques récapitulatives"
   ]
  },
  {
   "cell_type": "markdown",
   "id": "33273e35",
   "metadata": {},
   "source": [
    "### Afficher les entêtes"
   ]
  },
  {
   "cell_type": "code",
   "execution_count": 13,
   "id": "6bb72b29",
   "metadata": {},
   "outputs": [
    {
     "name": "stdout",
     "output_type": "stream",
     "text": [
      "Index(['Indicateurs', 'Années', 'fluctuations en pourcentage'], dtype='object')\n"
     ]
    }
   ],
   "source": [
    "print(homelessness.columns) # Afficher les entêtes"
   ]
  },
  {
   "cell_type": "markdown",
   "id": "1bc3e6db",
   "metadata": {},
   "source": [
    "### EXERCICE: \n",
    "Tri des lignes\n",
    "Il est souvent plus facile de trouver des données intéressantes dans un DataFrame en modifiant l'ordre des lignes. Vous pouvez trier les lignes en passant un nom de colonne à .sort_values().\n",
    "\n",
    "Dans les cas où des lignes ont la même valeur (ce qui est fréquent si vous triez sur une variable catégorielle), vous pouvez souhaiter briser les égalités en triant sur une autre colonne. Vous pouvez ainsi trier sur plusieurs colonnes en passant une liste de noms de colonnes.\n",
    "\n",
    "Trier sur…\tSyntaxe\n",
    "une colonne\tdf.sort_values(\"breed\")\n",
    "plusieurs colonnes\tdf.sort_values([\"breed\", \"weight_kg\"])\n",
    "En combinant .sort_values() et .head(), vous pouvez répondre à des questions du type « Quels sont les principaux cas où… ? ».\n",
    "\n",
    "homelessness est disponible et pandas est chargé en tant que pd.\n",
    "\n",
    "### Instructions 1/3\n",
    "\n",
    "- Triez homelessness par le nombre de sans-abri dans la colonne individuals, du plus petit au plus grand, et enregistrez ce résultat sous homelessness_ind.\n",
    "Affichez l’en-tête du DataFrame trié.\n",
    "\n",
    "- Triez homelessness par ordre décroissant du nombre de membres de la famille family_members des sans-abri et enregistrez ce résultat sous homelessness_fam.\n",
    "\n",
    "- Triez homelessness d'abord par région (ordre croissant), puis par nombre de membres de la famille (ordre décroissant). Enregistrez-la sous homelessness_reg_fam."
   ]
  },
  {
   "cell_type": "markdown",
   "id": "16d69487",
   "metadata": {},
   "source": [
    "### Utilisez sort_values pour trier par la colonne 'individuals'"
   ]
  },
  {
   "cell_type": "code",
   "execution_count": 15,
   "id": "abdcc092",
   "metadata": {},
   "outputs": [
    {
     "name": "stdout",
     "output_type": "stream",
     "text": [
      "                                    Indicateurs  Années  \\\n",
      "12                     Croissance du PIB réel %    2011   \n",
      "34  Prix à la Consommation (Taux d'inflation) %    2018   \n",
      "38  Prix à la Consommation (Taux d'inflation) %    2014   \n",
      "36  Prix à la Consommation (Taux d'inflation) %    2016   \n",
      "35  Prix à la Consommation (Taux d'inflation) %    2017   \n",
      "33  Prix à la Consommation (Taux d'inflation) %    2019   \n",
      "42  Prix à la Consommation (Taux d'inflation) %    2010   \n",
      "40  Prix à la Consommation (Taux d'inflation) %    2012   \n",
      "37  Prix à la Consommation (Taux d'inflation) %    2015   \n",
      "3                      Croissance du PIB réel %    2020   \n",
      "13                     Croissance du PIB réel %    2010   \n",
      "32  Prix à la Consommation (Taux d'inflation) %    2020   \n",
      "39  Prix à la Consommation (Taux d'inflation) %    2013   \n",
      "28  Prix à la Consommation (Taux d'inflation) %    2024   \n",
      "31  Prix à la Consommation (Taux d'inflation) %    2021   \n",
      "29  Prix à la Consommation (Taux d'inflation) %    2023   \n",
      "41  Prix à la Consommation (Taux d'inflation) %    2011   \n",
      "30  Prix à la Consommation (Taux d'inflation) %    2022   \n",
      "4                      Croissance du PIB réel %    2019   \n",
      "5                      Croissance du PIB réel %    2018   \n",
      "1                      Croissance du PIB réel %    2022   \n",
      "7                      Croissance du PIB réel %    2016   \n",
      "0                      Croissance du PIB réel %    2023   \n",
      "6                      Croissance du PIB réel %    2017   \n",
      "2                      Croissance du PIB réel %    2021   \n",
      "8                      Croissance du PIB réel %    2015   \n",
      "9                      Croissance du PIB réel %    2014   \n",
      "26              Taux d'investissements % du PIB    2011   \n",
      "10                     Croissance du PIB réel %    2013   \n",
      "11                     Croissance du PIB réel %    2012   \n",
      "27              Taux d'investissements % du PIB    2010   \n",
      "25              Taux d'investissements % du PIB    2012   \n",
      "24              Taux d'investissements % du PIB    2013   \n",
      "23              Taux d'investissements % du PIB    2014   \n",
      "19              Taux d'investissements % du PIB    2018   \n",
      "20              Taux d'investissements % du PIB    2017   \n",
      "18              Taux d'investissements % du PIB    2019   \n",
      "21              Taux d'investissements % du PIB    2016   \n",
      "17              Taux d'investissements % du PIB    2020   \n",
      "16              Taux d'investissements % du PIB    2021   \n",
      "15              Taux d'investissements % du PIB    2022   \n",
      "22              Taux d'investissements % du PIB    2015   \n",
      "14              Taux d'investissements % du PIB    2023   \n",
      "\n",
      "    fluctuations en pourcentage  \n",
      "12                         -4.2  \n",
      "34                          0.4  \n",
      "38                          0.4  \n",
      "36                          0.7  \n",
      "35                          0.7  \n",
      "33                          0.8  \n",
      "42                          1.2  \n",
      "40                          1.3  \n",
      "37                          1.3  \n",
      "3                           2.0  \n",
      "13                          2.0  \n",
      "32                          2.4  \n",
      "39                          2.6  \n",
      "28                          3.5  \n",
      "31                          4.2  \n",
      "29                          4.4  \n",
      "41                          4.9  \n",
      "30                          5.2  \n",
      "4                           6.2  \n",
      "5                           6.9  \n",
      "1                           6.9  \n",
      "7                           7.2  \n",
      "0                           7.2  \n",
      "6                           7.4  \n",
      "2                           7.4  \n",
      "8                           8.8  \n",
      "9                           8.8  \n",
      "26                          9.0  \n",
      "10                          9.3  \n",
      "11                         10.1  \n",
      "27                         12.3  \n",
      "25                         12.7  \n",
      "24                         17.0  \n",
      "23                         18.9  \n",
      "19                         19.8  \n",
      "20                         20.1  \n",
      "18                         21.1  \n",
      "21                         21.5  \n",
      "17                         22.4  \n",
      "16                         23.4  \n",
      "15                         23.7  \n",
      "22                         23.7  \n",
      "14                         27.4  \n"
     ]
    }
   ],
   "source": [
    "homelessness_ind = homelessness.sort_values('fluctuations en pourcentage')\n",
    "print(homelessness_ind)### Afficher les entêtes"
   ]
  },
  {
   "cell_type": "markdown",
   "id": "f20868de",
   "metadata": {},
   "source": [
    "### Afficher les premières lignes du DataFrame trié"
   ]
  },
  {
   "cell_type": "code",
   "execution_count": 16,
   "id": "005fe5cc",
   "metadata": {},
   "outputs": [
    {
     "name": "stdout",
     "output_type": "stream",
     "text": [
      "                                    Indicateurs  Années  \\\n",
      "12                     Croissance du PIB réel %    2011   \n",
      "34  Prix à la Consommation (Taux d'inflation) %    2018   \n",
      "38  Prix à la Consommation (Taux d'inflation) %    2014   \n",
      "36  Prix à la Consommation (Taux d'inflation) %    2016   \n",
      "35  Prix à la Consommation (Taux d'inflation) %    2017   \n",
      "\n",
      "    fluctuations en pourcentage  \n",
      "12                         -4.2  \n",
      "34                          0.4  \n",
      "38                          0.4  \n",
      "36                          0.7  \n",
      "35                          0.7  \n"
     ]
    }
   ],
   "source": [
    "print(homelessness_ind.head())"
   ]
  },
  {
   "cell_type": "markdown",
   "id": "0ddd1026",
   "metadata": {},
   "source": [
    "## Tri des lignes\n",
    "- Il est souvent plus facile de trouver des données intéressantes dans un DataFrame en modifiant l'ordre des lignes. Vous pouvez trier les lignes en passant un nom de colonne à .sort_values().\n",
    "\n",
    "- Dans les cas où des lignes ont la même valeur (ce qui est fréquent si vous triez sur une variable catégorielle), vous pouvez souhaiter briser les égalités en triant sur une autre colonne. Vous pouvez ainsi trier sur plusieurs colonnes en passant une liste de noms de colonnes.\n",
    "\n",
    "- Trier sur…\tSyntaxe\n",
    "une colonne\tdf.sort_values(\"breed\")\n",
    "plusieurs colonnes\tdf.sort_values([\"breed\", \"weight_kg\"])\n",
    "En combinant .sort_values() et .head(), vous pouvez répondre à des questions du type « Quels sont les principaux cas où… ? ».\n",
    "\n",
    "homelessness est disponible et pandas est chargé en tant que pd.\n",
    "\n",
    "### Instructions 2/3\n",
    "\n",
    "- 1/ Triez homelessness par le nombre de sans-abri dans la colonne individuals, du plus petit au plus grand, et enregistrez ce résultat sous homelessness_ind.\n",
    "Affichez l’en-tête du DataFrame trié.\n",
    "\n",
    "- 2/ Triez homelessness par ordre décroissant du nombre de membres de la famille family_members des sans-abri et enregistrez ce résultat sous homelessness_fam.\n",
    "\n",
    "- 3/ Triez homelessness d'abord par région (ordre croissant), puis par nombre de membres de la famille (ordre décroissant). Enregistrez-la sous homelessness_reg_fam."
   ]
  },
  {
   "cell_type": "code",
   "execution_count": 18,
   "id": "c0209752",
   "metadata": {},
   "outputs": [
    {
     "name": "stdout",
     "output_type": "stream",
     "text": [
      "                                    Indicateurs  Années  \\\n",
      "12                     Croissance du PIB réel %    2011   \n",
      "34  Prix à la Consommation (Taux d'inflation) %    2018   \n",
      "38  Prix à la Consommation (Taux d'inflation) %    2014   \n",
      "36  Prix à la Consommation (Taux d'inflation) %    2016   \n",
      "35  Prix à la Consommation (Taux d'inflation) %    2017   \n",
      "\n",
      "    fluctuations en pourcentage  \n",
      "12                         -4.2  \n",
      "34                          0.4  \n",
      "38                          0.4  \n",
      "36                          0.7  \n",
      "35                          0.7  \n"
     ]
    }
   ],
   "source": [
    "# Trie du plus petit au plus grand\n",
    "homelessness_fam = homelessness.sort_values('fluctuations en pourcentage', ascending=True)\n",
    "print(homelessness_fam.head())### Afficher les entêtes "
   ]
  },
  {
   "cell_type": "markdown",
   "id": "664cc13b",
   "metadata": {},
   "source": [
    "### Triez homelessness par ordre décroissant du nombre de membres de la famille family_members des sans-abri et enregistrez ce résultat sous homelessness_fam."
   ]
  },
  {
   "cell_type": "code",
   "execution_count": 26,
   "id": "9157db61",
   "metadata": {},
   "outputs": [
    {
     "name": "stdout",
     "output_type": "stream",
     "text": [
      "                                    Indicateurs  Années  \\\n",
      "28  Prix à la Consommation (Taux d'inflation) %    2024   \n",
      "14              Taux d'investissements % du PIB    2023   \n",
      "0                      Croissance du PIB réel %    2023   \n",
      "29  Prix à la Consommation (Taux d'inflation) %    2023   \n",
      "15              Taux d'investissements % du PIB    2022   \n",
      "\n",
      "    fluctuations en pourcentage  \n",
      "28                          3.5  \n",
      "14                         27.4  \n",
      "0                           7.2  \n",
      "29                          4.4  \n",
      "15                         23.7  \n",
      "                Indicateurs  Années  fluctuations en pourcentage\n",
      "0  Croissance du PIB réel %    2023                          7.2\n",
      "1  Croissance du PIB réel %    2022                          6.9\n",
      "2  Croissance du PIB réel %    2021                          7.4\n",
      "3  Croissance du PIB réel %    2020                          2.0\n",
      "4  Croissance du PIB réel %    2019                          6.2\n"
     ]
    }
   ],
   "source": [
    "homelessness_fam = homelessness.sort_values('Années', ascending=False)\n",
    "print(homelessness_fam.head())### Afficher les entêtes\n",
    "\n",
    "homelessness_ind = homelessness.sort_values('fluctuations en pourcentage', ascending=True)\n",
    "print(homelessness.head())"
   ]
  }
 ],
 "metadata": {
  "kernelspec": {
   "display_name": ".venv",
   "language": "python",
   "name": "python3"
  },
  "language_info": {
   "codemirror_mode": {
    "name": "ipython",
    "version": 3
   },
   "file_extension": ".py",
   "mimetype": "text/x-python",
   "name": "python",
   "nbconvert_exporter": "python",
   "pygments_lexer": "ipython3",
   "version": "3.13.1"
  }
 },
 "nbformat": 4,
 "nbformat_minor": 5
}
